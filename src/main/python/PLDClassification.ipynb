{
 "cells": [
  {
   "cell_type": "code",
   "execution_count": 1,
   "metadata": {},
   "outputs": [],
   "source": [
    "import math \n",
    "import pickle\n",
    "\n",
    "import torch\n",
    "import torch.nn as nn\n",
    "import torch.nn.functional as F\n",
    "import torch.optim as optim\n",
    "from torch.utils.data import DataLoader\n",
    "\n",
    "import matplotlib.pyplot as plt\n",
    "import sklearn.datasets as skdatasets\n",
    "import numpy as np\n",
    "from sklearn.model_selection import train_test_split"
   ]
  },
  {
   "cell_type": "code",
   "execution_count": 2,
   "metadata": {
    "collapsed": false,
    "jupyter": {
     "outputs_hidden": false
    },
    "pycharm": {
     "name": "#%%\n"
    }
   },
   "outputs": [],
   "source": [
    "from Classifier.Model import SingleLaneModel, TwoLaneModel"
   ]
  },
  {
   "cell_type": "code",
   "execution_count": 3,
   "metadata": {},
   "outputs": [],
   "source": [
    "data_set_path = \"/home/thrasolt/git/home_project_students/data/\" + \"data.pickle\"\n",
    "with open(data_set_path, 'rb') as file_handle:\n",
    "    dataset = pickle.load(file_handle)"
   ]
  },
  {
   "cell_type": "code",
   "execution_count": 4,
   "metadata": {},
   "outputs": [],
   "source": [
    "data = dataset[:, :906]\n",
    "labels = dataset[:, 906]\n",
    "\n",
    "train_set = dataset[0:320,:]\n",
    "val_set = dataset[320:,:]"
   ]
  },
  {
   "cell_type": "code",
   "execution_count": 5,
   "metadata": {},
   "outputs": [],
   "source": [
    "LEARNING_RATE = 0.01\n",
    "BATCH_SIZE = 25\n",
    "EPOCHS = 30"
   ]
  },
  {
   "cell_type": "code",
   "execution_count": 6,
   "metadata": {},
   "outputs": [],
   "source": [
    "in_dim = 906\n",
    "out_dim=2\n",
    "inner_layers=[64, 32]"
   ]
  },
  {
   "cell_type": "code",
   "execution_count": 7,
   "metadata": {},
   "outputs": [],
   "source": [
    "text_dim = 900\n",
    "text_layers = [256, 64]\n",
    "emotions_dim= 6\n",
    "emotions_layers= [16, 16]\n",
    "combination_dim = 16\n",
    "combination_layers= [32, 16]"
   ]
  },
  {
   "cell_type": "code",
   "execution_count": 8,
   "metadata": {},
   "outputs": [],
   "source": [
    "criterion = nn.CrossEntropyLoss()"
   ]
  },
  {
   "cell_type": "code",
   "execution_count": 9,
   "metadata": {},
   "outputs": [],
   "source": [
    "dataloader = DataLoader(dataset=train_set, batch_size=BATCH_SIZE, shuffle=True, num_workers=0)"
   ]
  },
  {
   "cell_type": "code",
   "execution_count": 10,
   "metadata": {},
   "outputs": [],
   "source": [
    "model = TwoLaneModel(text_dim, text_layers, emotions_dim, emotions_layers, combination_dim, combination_layers, out_dim)\n",
    "#model = SingleLaneModel(in_dim =in_dim, out_dim=out_dim, inner_layers=inner_layers)\n",
    "optimizer = optim.Adam(model.parameters(), lr=LEARNING_RATE)"
   ]
  },
  {
   "cell_type": "code",
   "execution_count": 11,
   "metadata": {
    "scrolled": true
   },
   "outputs": [
    {
     "name": "stdout",
     "output_type": "stream",
     "text": [
      "Epoch 0, Loss: 0.028288651257753372\n",
      "Epoch 1, Loss: 0.027991095557808876\n",
      "Epoch 2, Loss: 0.027590269222855568\n",
      "Epoch 3, Loss: 0.027462372556328773\n",
      "Epoch 4, Loss: 0.027085915207862854\n",
      "Epoch 5, Loss: 0.027124006301164627\n",
      "Epoch 6, Loss: 0.02674219012260437\n",
      "Epoch 7, Loss: 0.026624437421560287\n",
      "Epoch 8, Loss: 0.026410117745399475\n",
      "Epoch 9, Loss: 0.02543187513947487\n",
      "Epoch 10, Loss: 0.025646742433309555\n",
      "Epoch 11, Loss: 0.025399276986718178\n",
      "Epoch 12, Loss: 0.022762643173336983\n",
      "Epoch 13, Loss: 0.024946652352809906\n",
      "Epoch 14, Loss: 0.021944746375083923\n",
      "Epoch 15, Loss: 0.021196875721216202\n",
      "Epoch 16, Loss: 0.019932478666305542\n",
      "Epoch 17, Loss: 0.021506864577531815\n",
      "Epoch 18, Loss: 0.02190008945763111\n",
      "Epoch 19, Loss: 0.018932323902845383\n",
      "Epoch 20, Loss: 0.020827658474445343\n",
      "Epoch 21, Loss: 0.01872747763991356\n",
      "Epoch 22, Loss: 0.017254341393709183\n",
      "Epoch 23, Loss: 0.016794096678495407\n",
      "Epoch 24, Loss: 0.016178160905838013\n",
      "Epoch 25, Loss: 0.015860367566347122\n",
      "Epoch 26, Loss: 0.016613420099020004\n",
      "Epoch 27, Loss: 0.015134958550333977\n",
      "Epoch 28, Loss: 0.014939464628696442\n",
      "Epoch 29, Loss: 0.016268420964479446\n"
     ]
    }
   ],
   "source": [
    "for epoch in range(EPOCHS):\n",
    "        loss_avg = 0\n",
    "        for batch in dataloader:\n",
    "            \n",
    "            batch_data = batch[:, :in_dim]\n",
    "            batch_labels = batch[:, in_dim].long()\n",
    "            outputs = model(batch_data)\n",
    "\n",
    "            loss = criterion(outputs, batch_labels)\n",
    "            loss_avg += loss\n",
    "\n",
    "            loss.backward()\n",
    "            optimizer.step()\n",
    "            model.zero_grad()\n",
    "        print(f\"Epoch {epoch}, Loss: {loss_avg/train_set.shape[0]}\")\n",
    "        dataloader = DataLoader(dataset=train_set, batch_size=BATCH_SIZE, shuffle=True, num_workers=0)\n",
    "    "
   ]
  },
  {
   "cell_type": "code",
   "execution_count": 12,
   "metadata": {},
   "outputs": [
    {
     "data": {
      "text/plain": [
       "0.775"
      ]
     },
     "execution_count": 12,
     "metadata": {},
     "output_type": "execute_result"
    }
   ],
   "source": [
    "train_data = train_set[:, :in_dim]\n",
    "train_labels = train_set[:, in_dim]\n",
    "\n",
    "np.sum(np.argmax(model(torch.tensor(train_data)).detach().numpy(), axis=1)==train_labels)/train_set.shape[0]"
   ]
  },
  {
   "cell_type": "code",
   "execution_count": 13,
   "metadata": {},
   "outputs": [],
   "source": [
    "val_data = torch.tensor(val_set[:, :in_dim]).float()\n",
    "val_labels = torch.tensor(val_set[:, in_dim]).long()"
   ]
  },
  {
   "cell_type": "code",
   "execution_count": 14,
   "metadata": {},
   "outputs": [],
   "source": [
    "predictions = np.argmax(model(val_data).detach().numpy(), axis=1)"
   ]
  },
  {
   "cell_type": "code",
   "execution_count": 15,
   "metadata": {},
   "outputs": [
    {
     "data": {
      "text/plain": [
       "0.625"
      ]
     },
     "execution_count": 15,
     "metadata": {},
     "output_type": "execute_result"
    }
   ],
   "source": [
    "np.sum(predictions == val_labels.detach().numpy())/len(val_labels)"
   ]
  },
  {
   "cell_type": "code",
   "execution_count": 16,
   "metadata": {},
   "outputs": [],
   "source": [
    "model_path = \"/home/thrasolt/git/home_project_students/models/\" + \"final_model_1.pytorch\"\n",
    "torch.save(model.state_dict(), model_path)"
   ]
  }
 ],
 "metadata": {
  "kernelspec": {
   "display_name": "Python 3",
   "language": "python",
   "name": "python3"
  },
  "language_info": {
   "codemirror_mode": {
    "name": "ipython",
    "version": 3
   },
   "file_extension": ".py",
   "mimetype": "text/x-python",
   "name": "python",
   "nbconvert_exporter": "python",
   "pygments_lexer": "ipython3",
   "version": "3.8.3"
  }
 },
 "nbformat": 4,
 "nbformat_minor": 4
}
